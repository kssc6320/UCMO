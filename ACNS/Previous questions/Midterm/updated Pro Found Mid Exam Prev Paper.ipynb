{
 "cells": [
  {
   "cell_type": "code",
   "execution_count": 1,
   "id": "04f170cc",
   "metadata": {},
   "outputs": [
    {
     "name": "stdout",
     "output_type": "stream",
     "text": [
      "10\n"
     ]
    }
   ],
   "source": [
    "#Question 1\n",
    "#Output of the follwoing code\n",
    "import numpy as np\n",
    "a = np.array([1,2,3,5,8])\n",
    "b = np.array([0,3,4,2,1])\n",
    "c = a + b\n",
    "c = c * a\n",
    "print(c[1])\n",
    "#Ans 10"
   ]
  },
  {
   "cell_type": "code",
   "execution_count": 2,
   "id": "4fd12cdb",
   "metadata": {},
   "outputs": [
    {
     "ename": "TypeError",
     "evalue": "'int' object is not iterable",
     "output_type": "error",
     "traceback": [
      "\u001b[0;31m---------------------------------------------------------------------------\u001b[0m",
      "\u001b[0;31mTypeError\u001b[0m                                 Traceback (most recent call last)",
      "Cell \u001b[0;32mIn[2], line 6\u001b[0m\n\u001b[1;32m      3\u001b[0m list1 \u001b[38;5;241m=\u001b[39m [\u001b[38;5;241m1\u001b[39m,\u001b[38;5;241m2\u001b[39m,\u001b[38;5;241m3\u001b[39m,\u001b[38;5;241m4\u001b[39m,\u001b[38;5;241m5\u001b[39m,\u001b[38;5;241m6\u001b[39m] \u001b[38;5;66;03m# which of the following statement is incorrect\u001b[39;00m\n\u001b[1;32m      4\u001b[0m \u001b[38;5;66;03m#\u001b[39;00m\n\u001b[1;32m      5\u001b[0m \u001b[38;5;66;03m# option B \u001b[39;00m\n\u001b[0;32m----> 6\u001b[0m list1 \u001b[38;5;241m+\u001b[39m\u001b[38;5;241m=\u001b[39m \u001b[38;5;241m11\u001b[39m\n\u001b[1;32m      7\u001b[0m \u001b[38;5;28mprint\u001b[39m(list1)\n",
      "\u001b[0;31mTypeError\u001b[0m: 'int' object is not iterable"
     ]
    }
   ],
   "source": [
    "#Question 2\n",
    "#Assume \n",
    "list1 = [1,2,3,4,5,6] # which of the following statement is incorrect\n",
    "#\n",
    "# option B \n",
    "list1 += 11\n",
    "print(list1)"
   ]
  },
  {
   "cell_type": "code",
   "execution_count": 15,
   "id": "e7a37a2b",
   "metadata": {},
   "outputs": [
    {
     "name": "stdout",
     "output_type": "stream",
     "text": [
      "8\n"
     ]
    }
   ],
   "source": [
    "#Question 3\n",
    "#Ouput of the follwoing code\n",
    "a = np.array ([[1,2,3], [4,5,6], [7,8,9]])\n",
    "b = np.eye(3, k=1, dtype=int)\n",
    "c = np.ones((3,3), dtype=int)\n",
    "d = a+b+c\n",
    "print(d[1][2])\n",
    "#Ans 8"
   ]
  },
  {
   "cell_type": "code",
   "execution_count": 12,
   "id": "b9e4fdb0",
   "metadata": {},
   "outputs": [
    {
     "name": "stdout",
     "output_type": "stream",
     "text": [
      "[]\n"
     ]
    }
   ],
   "source": [
    "#Question 4\n",
    "#Output of the following code\n",
    "list1 = [1,2,3,4,5,6,7,8,9]\n",
    "print(list1[4:len(list1):-2])\n",
    "#Ans []"
   ]
  },
  {
   "cell_type": "code",
   "execution_count": 6,
   "id": "af086b54",
   "metadata": {},
   "outputs": [
    {
     "data": {
      "text/plain": [
       "3    b\n",
       "4    c\n",
       "6    d\n",
       "dtype: object"
      ]
     },
     "execution_count": 6,
     "metadata": {},
     "output_type": "execute_result"
    }
   ],
   "source": [
    "#Question 5\n",
    "#Output of the following code\n",
    "import pandas as pd\n",
    "data = pd.Series(['a','b','c','d','e'], index=[1,3,4,6,8])\n",
    "data[1:4]"
   ]
  },
  {
   "cell_type": "code",
   "execution_count": 15,
   "id": "da21e488",
   "metadata": {},
   "outputs": [
    {
     "name": "stdout",
     "output_type": "stream",
     "text": [
      "[-36, -6, -1, 36, 63, 100]\n"
     ]
    }
   ],
   "source": [
    "#Question 6\n",
    "#Output of the following code\n",
    "list1 = [-1,63,36,100,-6,-36]\n",
    "list1.sort()\n",
    "print(list1)\n",
    "#Ans [-36, -6, -1, 36, 63, 100]"
   ]
  },
  {
   "cell_type": "code",
   "execution_count": 18,
   "id": "6b1dd0c2",
   "metadata": {},
   "outputs": [
    {
     "name": "stdout",
     "output_type": "stream",
     "text": [
      "[20, 12]\n"
     ]
    }
   ],
   "source": [
    "#Question 7\n",
    "#Ouput of the following code\n",
    "list1 = [1,10,3,6]\n",
    "list2 = [item* 2 for item in list1 if item > 5]\n",
    "print(list2)\n",
    "#ans [20, 12]"
   ]
  },
  {
   "cell_type": "code",
   "execution_count": 3,
   "id": "517e0df5",
   "metadata": {},
   "outputs": [
    {
     "name": "stdout",
     "output_type": "stream",
     "text": [
      "yesnono\n"
     ]
    }
   ],
   "source": [
    "#Question 8\n",
    "#ouput of the following code\n",
    "mystr = 'yes'\n",
    "yourstr = 'no'\n",
    "mystr +=  yourstr * 2\n",
    "print(mystr)"
   ]
  },
  {
   "cell_type": "code",
   "execution_count": 27,
   "id": "759224e5",
   "metadata": {},
   "outputs": [
    {
     "name": "stdout",
     "output_type": "stream",
     "text": [
      "invalid, must contain 1 digit\n"
     ]
    }
   ],
   "source": [
    "#Question 9\n",
    "#output of the following code? Invalid python?\n",
    "password = 'ILOVEPYTHON'\n",
    "\n",
    "if password.isalpha():\n",
    "    print ('invalid, must contain 1 digit')\n",
    "elif password.isdigit():\n",
    "    print ('invalid2')\n",
    "elif password.isupper():\n",
    "    print ('invalid3')\n",
    "else: \n",
    "    print ('your password is secure')\n",
    "\n",
    "\n",
    "#-->Ans Invalid, cannot all uppercase"
   ]
  },
  {
   "cell_type": "code",
   "execution_count": 8,
   "id": "a321eace",
   "metadata": {},
   "outputs": [
    {
     "name": "stdout",
     "output_type": "stream",
     "text": [
      "36\n"
     ]
    }
   ],
   "source": [
    "# Question 10\n",
    "#the output of the following code?\n",
    "arr = np.array(np.arange(9).reshape(3,3))\n",
    "print(arr.sum())"
   ]
  },
  {
   "cell_type": "code",
   "execution_count": 20,
   "id": "64fbcc24",
   "metadata": {},
   "outputs": [
    {
     "name": "stdout",
     "output_type": "stream",
     "text": [
      "['03', '07', '2022']\n"
     ]
    }
   ],
   "source": [
    "#Question 11 \n",
    "#Output of the following code\n",
    "msg = '03/07/2022'\n",
    "result = msg.split('/')\n",
    "print(result)\n",
    "#ans ['03', '07', '2022']"
   ]
  },
  {
   "cell_type": "code",
   "execution_count": 31,
   "id": "6bb6a9bc",
   "metadata": {},
   "outputs": [
    {
     "name": "stdout",
     "output_type": "stream",
     "text": [
      "{10: 3, 20: 6, 30: 9}\n"
     ]
    }
   ],
   "source": [
    "#Question 12\n",
    "d1 = {1:10, 2:20, 3:30}\n",
    "d2 = {v:k * 3 for k,v in d1.items()}\n",
    "print(d2)\n",
    "#(10:3, 20:6, 30:9) "
   ]
  },
  {
   "cell_type": "code",
   "execution_count": 32,
   "id": "984e93e7",
   "metadata": {},
   "outputs": [
    {
     "name": "stdout",
     "output_type": "stream",
     "text": [
      "{'Georgia': 'Atlanta', 'New York': 'Alabama', 'CA': 'Sacramento'}\n"
     ]
    }
   ],
   "source": [
    "#Question 13\n",
    "#citer question?\n",
    "cities = {'Georgia' :'Atlanta' , 'CA': 'Berkly' , 'New York': 'Alabama'}\n",
    "if 'CA' in cities:\n",
    "    del cities['CA']\n",
    "    cities['CA'] = 'Sacramento'\n",
    "print(cities)\n",
    "\n",
    "#Ans --> {'Georgia': 'Atlanta', 'New York': 'Alabama', 'CA': 'Sacramento'}"
   ]
  },
  {
   "cell_type": "code",
   "execution_count": 23,
   "id": "d681e053",
   "metadata": {},
   "outputs": [
    {
     "name": "stdout",
     "output_type": "stream",
     "text": [
      "[1 2 3 4 5 6]\n"
     ]
    }
   ],
   "source": [
    "#Question 14\n",
    "#Ouput of the folowing code\n",
    "arr = np.array([1,2,3,4,5,6])\n",
    "arr[2] = 3.14\n",
    "print(arr)"
   ]
  },
  {
   "cell_type": "code",
   "execution_count": 25,
   "id": "1c2bf084",
   "metadata": {},
   "outputs": [
    {
     "name": "stdout",
     "output_type": "stream",
     "text": [
      "[1, 2, 3, 4, 5, 6]\n"
     ]
    }
   ],
   "source": [
    "#Question 15\n",
    "#Ouput of the follwoing code\n",
    "s1 = [1,2,3,4,5,6]\n",
    "s1_sub = s1[1:3]\n",
    "s1_sub[0]\n",
    "print(s1)"
   ]
  },
  {
   "cell_type": "code",
   "execution_count": 29,
   "id": "59ab5d16",
   "metadata": {},
   "outputs": [
    {
     "data": {
      "text/plain": [
       "array([[1, 2, 1, 2],\n",
       "       [3, 4, 3, 4]])"
      ]
     },
     "execution_count": 29,
     "metadata": {},
     "output_type": "execute_result"
    }
   ],
   "source": [
    "#Question 16 \n",
    "# output of the following code for axis = 1\n",
    "a = ([1,2],\n",
    "     [3,4])\n",
    "np.concatenate((a,a),axis = 1)"
   ]
  },
  {
   "cell_type": "code",
   "execution_count": 30,
   "id": "ab22d780",
   "metadata": {},
   "outputs": [
    {
     "data": {
      "text/plain": [
       "array([[1, 2],\n",
       "       [3, 4],\n",
       "       [1, 2],\n",
       "       [3, 4]])"
      ]
     },
     "execution_count": 30,
     "metadata": {},
     "output_type": "execute_result"
    }
   ],
   "source": [
    "#Question 16 \n",
    "# output of the following code for axis = 1\n",
    "for axis 0\n",
    "a = ([1,2],\n",
    "     [3,4])\n",
    "np.concatenate((a,a),axis = 0)"
   ]
  },
  {
   "cell_type": "code",
   "execution_count": 38,
   "id": "fba875b9",
   "metadata": {},
   "outputs": [
    {
     "name": "stdout",
     "output_type": "stream",
     "text": [
      "[5, 3, 1]\n"
     ]
    }
   ],
   "source": [
    "#Question 17\n",
    "#what will be the output for the follwoing code\n",
    "list1 = [0,1,2,3,4,5,6,7,8,9]\n",
    "print(list1[5::-2])"
   ]
  },
  {
   "cell_type": "code",
   "execution_count": 42,
   "id": "7f352402",
   "metadata": {},
   "outputs": [
    {
     "ename": "TypeError",
     "evalue": "'numpy.ndarray' object is not callable",
     "output_type": "error",
     "traceback": [
      "\u001b[1;31m---------------------------------------------------------------------------\u001b[0m",
      "\u001b[1;31mTypeError\u001b[0m                                 Traceback (most recent call last)",
      "Input \u001b[1;32mIn [42]\u001b[0m, in \u001b[0;36m<cell line: 3>\u001b[1;34m()\u001b[0m\n\u001b[0;32m      1\u001b[0m \u001b[38;5;66;03m#Question 18\u001b[39;00m\n\u001b[0;32m      2\u001b[0m arr \u001b[38;5;241m=\u001b[39m np\u001b[38;5;241m.\u001b[39marray([\u001b[38;5;241m9\u001b[39m])\n\u001b[1;32m----> 3\u001b[0m ind \u001b[38;5;241m=\u001b[39m \u001b[43mnp\u001b[49m\u001b[38;5;241;43m.\u001b[39;49m\u001b[43marray\u001b[49m\u001b[43m(\u001b[49m\u001b[43m[\u001b[49m\u001b[38;5;241;43m3\u001b[39;49m\u001b[43m]\u001b[49m\u001b[43m)\u001b[49m\u001b[43m(\u001b[49m\u001b[43m[\u001b[49m\u001b[38;5;241;43m6\u001b[39;49m\u001b[43m]\u001b[49m\u001b[43m)\u001b[49m\n\u001b[0;32m      4\u001b[0m \u001b[38;5;28mprint\u001b[39m(arr(ind))\n",
      "\u001b[1;31mTypeError\u001b[0m: 'numpy.ndarray' object is not callable"
     ]
    }
   ],
   "source": [
    "#Question 18\n",
    "arr = np.array([9])\n",
    "ind = np.array([3])([6])\n",
    "print(arr(ind))\n",
    "#Ans [3][6]"
   ]
  },
  {
   "cell_type": "code",
   "execution_count": 26,
   "id": "d5c732fd",
   "metadata": {},
   "outputs": [
    {
     "name": "stdout",
     "output_type": "stream",
     "text": [
      "[ True  True  True]\n"
     ]
    }
   ],
   "source": [
    "#Question 19\n",
    "#what will be the output for the follwoing code\n",
    "arr1 = np.array([True, False, True])\n",
    "arr2 = np.array([False, True, False])\n",
    "print(arr1 or arr2)\n",
    "#Ans B - [FALSE,FALSE,FALSE]"
   ]
  },
  {
   "cell_type": "code",
   "execution_count": 21,
   "id": "94032401",
   "metadata": {},
   "outputs": [
    {
     "ename": "ValueError",
     "evalue": "The truth value of an array with more than one element is ambiguous. Use a.any() or a.all()",
     "output_type": "error",
     "traceback": [
      "\u001b[0;31m---------------------------------------------------------------------------\u001b[0m",
      "\u001b[0;31mValueError\u001b[0m                                Traceback (most recent call last)",
      "Cell \u001b[0;32mIn[21], line 3\u001b[0m\n\u001b[1;32m      1\u001b[0m arr1 \u001b[38;5;241m=\u001b[39m np\u001b[38;5;241m.\u001b[39marray([\u001b[38;5;28;01mTrue\u001b[39;00m, \u001b[38;5;28;01mFalse\u001b[39;00m, \u001b[38;5;28;01mTrue\u001b[39;00m])\n\u001b[1;32m      2\u001b[0m arr2 \u001b[38;5;241m=\u001b[39m np\u001b[38;5;241m.\u001b[39marray([\u001b[38;5;28;01mFalse\u001b[39;00m, \u001b[38;5;28;01mTrue\u001b[39;00m, \u001b[38;5;28;01mFalse\u001b[39;00m])\n\u001b[0;32m----> 3\u001b[0m \u001b[38;5;28mprint\u001b[39m(arr1 \u001b[38;5;129;01mor\u001b[39;00m arr2)\n",
      "\u001b[0;31mValueError\u001b[0m: The truth value of an array with more than one element is ambiguous. Use a.any() or a.all()"
     ]
    }
   ],
   "source": [
    "arr1 = np.array([True, False, True])\n",
    "arr2 = np.array([False, True, False])\n",
    "print(arr1 or arr2)\n"
   ]
  },
  {
   "cell_type": "code",
   "execution_count": 25,
   "id": "c40b3fed",
   "metadata": {},
   "outputs": [
    {
     "name": "stdout",
     "output_type": "stream",
     "text": [
      "2    a\n",
      "3    c\n",
      "dtype: object\n"
     ]
    }
   ],
   "source": [
    "#Question 20\n",
    "#what will be the output for the follwoing code\n",
    "import pandas as pd\n",
    "ser = pd.Series({2:'a', 1:'b', 3:'c'}, index = {3,2})\n",
    "print(ser)\n",
    "#Ans B"
   ]
  },
  {
   "cell_type": "code",
   "execution_count": 64,
   "id": "1c6fa98d",
   "metadata": {},
   "outputs": [
    {
     "name": "stdout",
     "output_type": "stream",
     "text": [
      "8\n"
     ]
    }
   ],
   "source": [
    "#Question 21\n",
    "#What is the correct syntax to print the number 8 from the array below\n",
    "arr = np.array(([1,2,3,4,5], [6,7,8,9,10]))\n",
    "print(arr[1,2])\n",
    "#Ans print(arr[1,2]) - A"
   ]
  },
  {
   "cell_type": "code",
   "execution_count": 13,
   "id": "f150fc6c",
   "metadata": {},
   "outputs": [
    {
     "name": "stdout",
     "output_type": "stream",
     "text": [
      "[3 4 5]\n"
     ]
    }
   ],
   "source": [
    "#Question 22\n",
    "#What is the correct syntax to print the numbers [3,4,5] from the below\n",
    "arr = np.array([1,2,3,4,5,6,7])\n",
    "print(arr[2:5])\n",
    "#Ans print(arr[2:5]) - B"
   ]
  },
  {
   "cell_type": "code",
   "execution_count": 15,
   "id": "c7e4fe55",
   "metadata": {},
   "outputs": [
    {
     "name": "stdout",
     "output_type": "stream",
     "text": [
      "[4 5 6 7]\n"
     ]
    }
   ],
   "source": [
    "#Question 23\n",
    "#Which syntax would print the last 4 numbers from hr array below\n",
    "arr = np.array([1,2,3,4,5,6,7])\n",
    "print(arr[3:])\n",
    "#Ans print(arr[3:]) - B"
   ]
  },
  {
   "cell_type": "code",
   "execution_count": 18,
   "id": "16454ea8",
   "metadata": {},
   "outputs": [
    {
     "name": "stdout",
     "output_type": "stream",
     "text": [
      "[1 3 5 7]\n"
     ]
    }
   ],
   "source": [
    "#Question 24\n",
    "#Which syntax would print every other item from the array below\n",
    "arr = np.array([1,2,3,4,5,6,7])\n",
    "print(arr[::2])\n",
    "#Ans print(arr[::2]) - A"
   ]
  },
  {
   "cell_type": "code",
   "execution_count": null,
   "id": "0a96137c",
   "metadata": {},
   "outputs": [],
   "source": [
    "#Question 25\n",
    "#In numpy, what does the attributes shape of an array mean?\n",
    "# - The shape of an array is the number of elements in each dimension. ans b"
   ]
  },
  {
   "cell_type": "code",
   "execution_count": 83,
   "id": "91a6d05a",
   "metadata": {},
   "outputs": [
    {
     "name": "stdout",
     "output_type": "stream",
     "text": [
      "[1 3 6]\n"
     ]
    }
   ],
   "source": [
    "#Question 26\n",
    "#What is output of the follwoing code\n",
    "arr = np.array([1,2,3])\n",
    "print(np.cumsum(arr))\n",
    "#Ans - [1 3 6]"
   ]
  },
  {
   "cell_type": "code",
   "execution_count": 85,
   "id": "e593d0b2",
   "metadata": {},
   "outputs": [
    {
     "name": "stdout",
     "output_type": "stream",
     "text": [
      "[0 0 0 4 5 6]\n"
     ]
    }
   ],
   "source": [
    "#Question 27\n",
    "#what will be output for the follwoing code\n",
    "arr = np.array([1,2,3,4,5,6])\n",
    "print(np.where(arr <=3, 0, arr))\n",
    "#Ans [ 0 0 0 4 5 6]"
   ]
  },
  {
   "cell_type": "code",
   "execution_count": 16,
   "id": "261f350b",
   "metadata": {},
   "outputs": [
    {
     "name": "stdout",
     "output_type": "stream",
     "text": [
      "[[99  1  2]\n",
      " [ 3  4  5]]\n"
     ]
    }
   ],
   "source": [
    "#Question 28\n",
    "#Output of the follwing code\n",
    "arr = np.arange(6).reshape(2,3)\n",
    "raveled = arr.ravel()\n",
    "raveled[0] = 99\n",
    "print(arr)\n",
    "#Ans "
   ]
  },
  {
   "cell_type": "code",
   "execution_count": 89,
   "id": "8225d927",
   "metadata": {},
   "outputs": [
    {
     "name": "stdout",
     "output_type": "stream",
     "text": [
      "0        1\n",
      "2    hello\n",
      "dtype: object\n"
     ]
    }
   ],
   "source": [
    "#Question 29\n",
    "#what will be output of the following code\n",
    "data = pd.Series([1,np.nan, 'hello', None])\n",
    "result = data[data.notnull()]\n",
    "print(result)"
   ]
  },
  {
   "cell_type": "code",
   "execution_count": 91,
   "id": "825e4516",
   "metadata": {},
   "outputs": [
    {
     "data": {
      "text/plain": [
       "b    2\n",
       "b    3\n",
       "dtype: int64"
      ]
     },
     "execution_count": 91,
     "metadata": {},
     "output_type": "execute_result"
    }
   ],
   "source": [
    "#Question 30\n",
    "#Ouput of the following code\n",
    "obj = pd.Series(range(5), index=['a','a','b','b','c'])\n",
    "obj['b']"
   ]
  },
  {
   "cell_type": "code",
   "execution_count": null,
   "id": "bc81048d",
   "metadata": {},
   "outputs": [],
   "source": []
  }
 ],
 "metadata": {
  "kernelspec": {
   "display_name": "Python 3 (ipykernel)",
   "language": "python",
   "name": "python3"
  },
  "language_info": {
   "codemirror_mode": {
    "name": "ipython",
    "version": 3
   },
   "file_extension": ".py",
   "mimetype": "text/x-python",
   "name": "python",
   "nbconvert_exporter": "python",
   "pygments_lexer": "ipython3",
   "version": "3.11.4"
  }
 },
 "nbformat": 4,
 "nbformat_minor": 5
}
