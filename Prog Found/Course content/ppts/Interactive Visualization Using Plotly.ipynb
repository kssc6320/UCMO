{
 "cells": [
  {
   "cell_type": "markdown",
   "id": "1ebe204d",
   "metadata": {},
   "source": [
    "### Interactive Visualization Using Plotly\n",
    "`plotly.py` is an interactive, open-source, and browser-based graphing library for Python. Built on top of `plotly.js`, `plotly.py` is a high-level, declarative charting library. `plotly.js` ships with over 30 chart types, including scientific charts, 3D graphs, statistical charts, SVG maps, financial charts, and more.\n",
    "\n",
    "#### Install plotly"
   ]
  },
  {
   "cell_type": "code",
   "execution_count": null,
   "id": "92833600",
   "metadata": {},
   "outputs": [],
   "source": [
    "!pip3 install plotly"
   ]
  },
  {
   "cell_type": "markdown",
   "id": "4bcd03f5",
   "metadata": {},
   "source": [
    "### Cufflinks\n",
    "Cufflinks binds the power of plotly with the flexibility of pandas for easy plotting\n",
    "\n",
    "#### Install Cufflinks"
   ]
  },
  {
   "cell_type": "code",
   "execution_count": null,
   "id": "e86417b0",
   "metadata": {},
   "outputs": [],
   "source": [
    "!pip3 install cufflinks"
   ]
  },
  {
   "cell_type": "code",
   "execution_count": null,
   "id": "273f0781",
   "metadata": {},
   "outputs": [],
   "source": [
    "import pandas as pd\n",
    "import numpy as np\n",
    "%matplotlib inline"
   ]
  },
  {
   "cell_type": "code",
   "execution_count": null,
   "id": "9f3994c2",
   "metadata": {},
   "outputs": [],
   "source": [
    "from plotly.offline import download_plotlyjs, init_notebook_mode, plot, iplot"
   ]
  },
  {
   "cell_type": "code",
   "execution_count": null,
   "id": "e6daf357",
   "metadata": {},
   "outputs": [],
   "source": [
    "# For Notebooks\n",
    "init_notebook_mode(connected = True)"
   ]
  },
  {
   "cell_type": "code",
   "execution_count": null,
   "id": "3050e77e",
   "metadata": {},
   "outputs": [],
   "source": [
    "import cufflinks as cf\n",
    "# For offline use\n",
    "cf.go_offline()"
   ]
  },
  {
   "cell_type": "code",
   "execution_count": null,
   "id": "37ec767e",
   "metadata": {},
   "outputs": [],
   "source": [
    "df1 = pd.DataFrame(np.random.randn(100,3),columns = ['A', 'B', 'C'])\n",
    "df1.head()"
   ]
  },
  {
   "cell_type": "code",
   "execution_count": null,
   "id": "9db804af",
   "metadata": {},
   "outputs": [],
   "source": [
    "df2 = pd.DataFrame({'Types':['A','B','C'],'Values':[30,60,90]})\n",
    "df2.head()"
   ]
  },
  {
   "cell_type": "markdown",
   "id": "a153feb8",
   "metadata": {},
   "source": [
    "### The Static Plot using Pandas Built-in"
   ]
  },
  {
   "cell_type": "code",
   "execution_count": null,
   "id": "e4a1f6f8",
   "metadata": {},
   "outputs": [],
   "source": [
    "df1.plot()"
   ]
  },
  {
   "cell_type": "markdown",
   "id": "36b6bd42",
   "metadata": {},
   "source": [
    "### The Interactive Plot using plotly"
   ]
  },
  {
   "cell_type": "code",
   "execution_count": null,
   "id": "e86d18d9",
   "metadata": {
    "scrolled": false
   },
   "outputs": [],
   "source": [
    "df1.iplot()"
   ]
  },
  {
   "cell_type": "markdown",
   "id": "1c9835a8",
   "metadata": {},
   "source": [
    "### Scatter Plot"
   ]
  },
  {
   "cell_type": "code",
   "execution_count": null,
   "id": "87e3f8b9",
   "metadata": {},
   "outputs": [],
   "source": [
    "df1.iplot(kind = 'scatter', x = 'A', y = 'B', mode = 'markers',  size = 10)"
   ]
  },
  {
   "cell_type": "code",
   "execution_count": null,
   "id": "8919c8ab",
   "metadata": {},
   "outputs": [],
   "source": [
    "import seaborn as sns\n",
    "iris = sns.load_dataset('iris')\n",
    "iris.head()"
   ]
  },
  {
   "cell_type": "code",
   "execution_count": null,
   "id": "dca64f61",
   "metadata": {},
   "outputs": [],
   "source": [
    "iris.iplot(kind=\"scatter\", theme=\"white\", x=\"petal_length\",y=\"petal_width\",\n",
    "            categories=\"species\")"
   ]
  },
  {
   "cell_type": "markdown",
   "id": "7479804e",
   "metadata": {},
   "source": [
    "### Bar Plot"
   ]
  },
  {
   "cell_type": "code",
   "execution_count": null,
   "id": "9de5fad3",
   "metadata": {
    "scrolled": true
   },
   "outputs": [],
   "source": [
    "df2.iplot(kind='bar', x='Types', y='Values', colors='blue',\n",
    "          title=\"Bar Plot Using Plotly\",xTitle='Types', yTitle='Count')"
   ]
  },
  {
   "cell_type": "code",
   "execution_count": null,
   "id": "05106a45",
   "metadata": {},
   "outputs": [],
   "source": [
    "np.abs(df1.sum())"
   ]
  },
  {
   "cell_type": "code",
   "execution_count": null,
   "id": "1e59ea76",
   "metadata": {},
   "outputs": [],
   "source": [
    "np.abs(df1.sum()).iplot(kind = 'bar', theme=\"white\")"
   ]
  },
  {
   "cell_type": "code",
   "execution_count": null,
   "id": "9215ab99",
   "metadata": {},
   "outputs": [],
   "source": [
    "np.abs(df1.iloc[:6])"
   ]
  },
  {
   "cell_type": "code",
   "execution_count": null,
   "id": "de867101",
   "metadata": {},
   "outputs": [],
   "source": [
    "np.abs(df1.iloc[:6]).iplot(kind='bar', barmode='stack')"
   ]
  },
  {
   "cell_type": "markdown",
   "id": "c813b960",
   "metadata": {},
   "source": [
    "### Box Plot"
   ]
  },
  {
   "cell_type": "code",
   "execution_count": null,
   "id": "ac17b7e9",
   "metadata": {
    "scrolled": true
   },
   "outputs": [],
   "source": [
    "df1.iplot(kind = 'box')"
   ]
  },
  {
   "cell_type": "markdown",
   "id": "120aa9a3",
   "metadata": {},
   "source": [
    "### Histogram"
   ]
  },
  {
   "cell_type": "code",
   "execution_count": null,
   "id": "60713766",
   "metadata": {},
   "outputs": [],
   "source": [
    "df1['A'].iplot(kind = 'hist')"
   ]
  },
  {
   "cell_type": "code",
   "execution_count": null,
   "id": "c4a4b210",
   "metadata": {},
   "outputs": [],
   "source": [
    "df1.iplot(kind = 'hist')"
   ]
  },
  {
   "cell_type": "markdown",
   "id": "9660fbc3",
   "metadata": {},
   "source": [
    "### Spread Plot"
   ]
  },
  {
   "cell_type": "code",
   "execution_count": null,
   "id": "5dc865f6",
   "metadata": {},
   "outputs": [],
   "source": [
    "df1[['A','B']].iplot(kind = 'spread')"
   ]
  },
  {
   "cell_type": "markdown",
   "id": "b0bcbd55",
   "metadata": {},
   "source": [
    "### Bubble Plot"
   ]
  },
  {
   "cell_type": "code",
   "execution_count": null,
   "id": "89cb5102",
   "metadata": {},
   "outputs": [],
   "source": [
    "df1.iplot(kind = 'bubble', x = 'A', y = 'B', size = 'C')"
   ]
  },
  {
   "cell_type": "markdown",
   "id": "66383c0d",
   "metadata": {},
   "source": [
    "### Scatter Matrix"
   ]
  },
  {
   "cell_type": "code",
   "execution_count": null,
   "id": "9f0ef2b7",
   "metadata": {},
   "outputs": [],
   "source": [
    "df1.scatter_matrix()"
   ]
  },
  {
   "cell_type": "code",
   "execution_count": null,
   "id": "01fc3c20",
   "metadata": {},
   "outputs": [],
   "source": [
    "iris.iloc[:, 0:4].scatter_matrix()"
   ]
  },
  {
   "cell_type": "markdown",
   "id": "f689f32f",
   "metadata": {},
   "source": [
    "### Heatmap"
   ]
  },
  {
   "cell_type": "code",
   "execution_count": null,
   "id": "2f4b12ed",
   "metadata": {},
   "outputs": [],
   "source": [
    "result = df1.corr()\n",
    "result"
   ]
  },
  {
   "cell_type": "code",
   "execution_count": null,
   "id": "02a79f96",
   "metadata": {},
   "outputs": [],
   "source": [
    "result.iplot(kind='heatmap',colorscale=\"reds\", title=\"Feature Correlation Matrix\")"
   ]
  },
  {
   "cell_type": "markdown",
   "id": "ef6b0688",
   "metadata": {},
   "source": [
    "### 3D Surface Plot"
   ]
  },
  {
   "cell_type": "code",
   "execution_count": null,
   "id": "0ced049b",
   "metadata": {},
   "outputs": [],
   "source": [
    "df3 = pd.DataFrame({'x':[1,2,3,4,5], 'y':[10,20,30,20,10], 'z':[1,2,3,4,5]})\n",
    "df3"
   ]
  },
  {
   "cell_type": "code",
   "execution_count": null,
   "id": "b28a14ab",
   "metadata": {},
   "outputs": [],
   "source": [
    "df3.iplot(kind='surface', colorscale='rdylbu') #rd- red, yl-yellow, bu-blue"
   ]
  },
  {
   "cell_type": "markdown",
   "id": "2842e34d",
   "metadata": {},
   "source": [
    "### Choropleth Map with `plotly.express`\n",
    "Plotly Express is the easy-to-use, high-level interface to `Plotly`, which operates on a variety of types of data and produces easy-to-style figures. A Choropleth Map is a map composed of colored polygons. It is used to represent spatial variations of a quantity. Next we will use the `px.choropleth` function to visualize the data on a map. Making choropleth maps requires two main types of input. We will focus on the built-in geometries within `plotly`: US states and world countries "
   ]
  },
  {
   "cell_type": "code",
   "execution_count": null,
   "id": "ecb055d6",
   "metadata": {},
   "outputs": [],
   "source": [
    "import plotly.express as px"
   ]
  },
  {
   "cell_type": "code",
   "execution_count": null,
   "id": "5b1484a7",
   "metadata": {},
   "outputs": [],
   "source": [
    "df = pd.read_csv('2011_US_AGRI_Exports')\n",
    "df.head()"
   ]
  },
  {
   "cell_type": "code",
   "execution_count": null,
   "id": "f5432ff8",
   "metadata": {},
   "outputs": [],
   "source": [
    "fig = px.choropleth(df, locations = 'code', color = 'total exports', \n",
    "                    locationmode = 'USA-states',                   \n",
    "                    color_continuous_scale = \"ylorrd\",\n",
    "                    scope = \"usa\", labels = {'total exports':'Exports in Millions'}, \n",
    "                    hover_name = 'state', hover_data = ['text'],\n",
    "                    title = '2011 US Agriculture Exports')"
   ]
  },
  {
   "cell_type": "code",
   "execution_count": null,
   "id": "f0bb3e8b",
   "metadata": {
    "scrolled": true
   },
   "outputs": [],
   "source": [
    "fig.update_geos(scope=\"usa\", showlakes = True, lakecolor = 'rgb(85, 173, 240)')\n",
    "#fig.update_traces(marker = dict(line = dict(color = 'rgb(255,255,255)', width = 1)))\n",
    "fig.update_layout(margin = {\"r\":0,\"t\":0,\"l\":0,\"b\":0})\n",
    "fig.show()"
   ]
  },
  {
   "cell_type": "code",
   "execution_count": null,
   "id": "dec4fe1b",
   "metadata": {},
   "outputs": [],
   "source": [
    "df2 = pd.read_csv('2014_World_GDP')\n",
    "df2.head()"
   ]
  },
  {
   "cell_type": "code",
   "execution_count": null,
   "id": "0ea6d62c",
   "metadata": {},
   "outputs": [],
   "source": [
    "fig = px.choropleth(df2, locations = 'CODE', color = 'GDP (BILLIONS)', \n",
    "                    locationmode = 'ISO-3',                   \n",
    "                    color_continuous_scale = \"ylorrd\",\n",
    "                    scope = \"world\", labels = {'GDP (BILLIONS)':'GDP in BILLIONS'}, \n",
    "                    hover_name = 'COUNTRY', projection = 'natural earth',\n",
    "                    title = '2014 World GDP')"
   ]
  },
  {
   "cell_type": "code",
   "execution_count": null,
   "id": "8ab6b4d2",
   "metadata": {},
   "outputs": [],
   "source": [
    "#fig.update_geos(scope=\"world\", showlakes = True, lakecolor = 'rgb(85, 173, 240)')\n",
    "fig.update_layout(margin = {\"r\":0,\"t\":0,\"l\":0,\"b\":0})\n",
    "fig.show()"
   ]
  }
 ],
 "metadata": {
  "kernelspec": {
   "display_name": "Python 3 (ipykernel)",
   "language": "python",
   "name": "python3"
  },
  "language_info": {
   "codemirror_mode": {
    "name": "ipython",
    "version": 3
   },
   "file_extension": ".py",
   "mimetype": "text/x-python",
   "name": "python",
   "nbconvert_exporter": "python",
   "pygments_lexer": "ipython3",
   "version": "3.9.13"
  }
 },
 "nbformat": 4,
 "nbformat_minor": 5
}
