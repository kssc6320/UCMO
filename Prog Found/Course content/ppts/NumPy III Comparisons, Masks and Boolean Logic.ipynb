{
 "cells": [
  {
   "cell_type": "markdown",
   "id": "13f9d2e4",
   "metadata": {},
   "source": [
    "# NumPy III: Comparisons, Masks and Boolean Logic\n",
    "\n",
    "*Disclaimer: The contents of this notebook are developped according to Python Data Science Handbook, by Jake VanderPlas and Python for Data Analysis, by Wes McKinney*"
   ]
  },
  {
   "cell_type": "markdown",
   "id": "24ac731a",
   "metadata": {},
   "source": [
    "### Comparison Operators as UFuncs\n",
    "We have learned that using `+`, `-`, `*`, `/`, and others on arrays leads to element-wise operations. NumPy also implements comparison operators such as `<` (less than) and `>` (greater than) as element-wise ufuncs. The result of these comparison operators is always an array with a Boolean data type. All six of the standard comparison operations (`<`, `<=`, `>`, `>=`, `==` and `!=`) are available\n",
    "\n",
    "<div>\n",
    "<img src=\"attachment:f1.png\" width=\"350\"/>\n",
    "</div>\n",
    "\n",
    "As in the case of arithmetic operators, the comparison operators are implemented as ufuncs in NumPy; for example, when you write `x < 3`, internally NumPy uses `np.less(x, 3)`"
   ]
  },
  {
   "cell_type": "code",
   "execution_count": 7,
   "id": "6f6e9f20",
   "metadata": {},
   "outputs": [
    {
     "data": {
      "text/plain": [
       "array([ True,  True, False, False, False])"
      ]
     },
     "execution_count": 7,
     "metadata": {},
     "output_type": "execute_result"
    }
   ],
   "source": [
    "import numpy as np\n",
    "x = np.array([1, 2, 3, 4, 5])\n",
    "x < 3  # less than"
   ]
  },
  {
   "cell_type": "code",
   "execution_count": null,
   "id": "230c4ba0",
   "metadata": {},
   "outputs": [],
   "source": [
    "x == 3  # equal"
   ]
  },
  {
   "cell_type": "markdown",
   "id": "1ce8dbd8",
   "metadata": {},
   "source": [
    "It is also possible to do an element-wise comparison of two arrays, and to include compound expressions. Comparisons between arrays of the same size yield boolean arrays"
   ]
  },
  {
   "cell_type": "code",
   "execution_count": null,
   "id": "d421bf27",
   "metadata": {},
   "outputs": [],
   "source": [
    "(2 * x)"
   ]
  },
  {
   "cell_type": "code",
   "execution_count": null,
   "id": "e2b5c3fe",
   "metadata": {},
   "outputs": [],
   "source": [
    "(x ** 2)"
   ]
  },
  {
   "cell_type": "code",
   "execution_count": null,
   "id": "84baa70d",
   "metadata": {},
   "outputs": [],
   "source": [
    "(2 * x) == (x ** 2)"
   ]
  },
  {
   "cell_type": "markdown",
   "id": "1ee3ada7",
   "metadata": {},
   "source": [
    "Just as in the case of arithmetic ufuncs, these will work on arrays of any size and shape. In each case, the result is a Boolean array"
   ]
  },
  {
   "cell_type": "code",
   "execution_count": null,
   "id": "ea79472e",
   "metadata": {},
   "outputs": [],
   "source": [
    "# Two dimensional example\n",
    "rng = np.random.RandomState(0)\n",
    "x = rng.randint(10, size = (3, 4))\n",
    "x"
   ]
  },
  {
   "cell_type": "code",
   "execution_count": null,
   "id": "9e1a2714",
   "metadata": {},
   "outputs": [],
   "source": [
    "x < 6"
   ]
  },
  {
   "cell_type": "markdown",
   "id": "ade7fcda",
   "metadata": {},
   "source": [
    "### Working with Boolean Arrays"
   ]
  },
  {
   "cell_type": "markdown",
   "id": "2c3ecf95",
   "metadata": {},
   "source": [
    "#### Counting Entries\n",
    "To count the number of `True` entries in a Boolean array, `np.count_nonzero` is useful. In Python, all nonzero integers will be evaluated as `True`."
   ]
  },
  {
   "cell_type": "code",
   "execution_count": null,
   "id": "67696f06",
   "metadata": {},
   "outputs": [],
   "source": [
    "bool(1)"
   ]
  },
  {
   "cell_type": "code",
   "execution_count": null,
   "id": "635bfcf6",
   "metadata": {},
   "outputs": [],
   "source": [
    "bool(0)"
   ]
  },
  {
   "cell_type": "code",
   "execution_count": null,
   "id": "52bdcd9d",
   "metadata": {},
   "outputs": [],
   "source": [
    "x"
   ]
  },
  {
   "cell_type": "code",
   "execution_count": null,
   "id": "b17da687",
   "metadata": {},
   "outputs": [],
   "source": [
    "x < 6"
   ]
  },
  {
   "cell_type": "code",
   "execution_count": null,
   "id": "fe38ca23",
   "metadata": {},
   "outputs": [],
   "source": [
    "# how many values less than 6?\n",
    "np.count_nonzero(x < 6)"
   ]
  },
  {
   "cell_type": "code",
   "execution_count": null,
   "id": "1b681bdc",
   "metadata": {},
   "outputs": [],
   "source": [
    "np.count_nonzero(x < 6, axis=0)"
   ]
  },
  {
   "cell_type": "markdown",
   "id": "fa94db39",
   "metadata": {},
   "source": [
    "Another way to get at this information is to use `np.sum`; in this case, `False` is interpreted as 0, and `True` is interpreted as 1. The benefit of `sum()` is that like with other NumPy aggregation functions, this summation can be done along rows or columns as well."
   ]
  },
  {
   "cell_type": "code",
   "execution_count": null,
   "id": "ce412cd8",
   "metadata": {},
   "outputs": [],
   "source": [
    "np.sum(x < 6)"
   ]
  },
  {
   "cell_type": "code",
   "execution_count": null,
   "id": "c67cc737",
   "metadata": {},
   "outputs": [],
   "source": [
    "# how many values less than 6 in each row?\n",
    "np.sum(x < 6, axis = 1)"
   ]
  },
  {
   "cell_type": "code",
   "execution_count": null,
   "id": "8c032524",
   "metadata": {},
   "outputs": [],
   "source": [
    "np.sum(x < 6, axis = 0)"
   ]
  },
  {
   "cell_type": "markdown",
   "id": "e888c186",
   "metadata": {},
   "source": [
    "If we're interested in quickly checking whether any or all the values are true, we can use `np.any` or `np.all`. `np.all` and `np.any` can be used along particular axes as well."
   ]
  },
  {
   "cell_type": "code",
   "execution_count": null,
   "id": "3c7bddd4",
   "metadata": {},
   "outputs": [],
   "source": [
    "# are there any values greater than 8?\n",
    "np.any(x > 8)"
   ]
  },
  {
   "cell_type": "code",
   "execution_count": null,
   "id": "3ea11843",
   "metadata": {},
   "outputs": [],
   "source": [
    "# are there any values less than zero?\n",
    "np.any(x < 0)"
   ]
  },
  {
   "cell_type": "code",
   "execution_count": null,
   "id": "c0c35b7c",
   "metadata": {},
   "outputs": [],
   "source": [
    "# are all values less than 10?\n",
    "np.all(x < 10)"
   ]
  },
  {
   "cell_type": "code",
   "execution_count": null,
   "id": "2795160c",
   "metadata": {},
   "outputs": [],
   "source": [
    "# are all values equal to 6?\n",
    "np.all(x == 6)"
   ]
  },
  {
   "cell_type": "code",
   "execution_count": null,
   "id": "4b5abff5",
   "metadata": {},
   "outputs": [],
   "source": [
    "# are all values in each row less than 8?\n",
    "np.all(x < 8, axis = 1)"
   ]
  },
  {
   "attachments": {
    "f1.png": {
     "image/png": "[encoded data removed]"
    }
   },
   "cell_type": "markdown",
   "id": "98e73cce",
   "metadata": {},
   "source": [
    "### Boolean Operators\n",
    "Python's bitwise logic operators, `&`, `|`, `^`, and `~`. Like with the standard arithmetic operators, NumPy overloads these as ufuncs which work element-wise on (usually Boolean) arrays. Combining comparison operators and Boolean operators on arrays can lead to a wide range of efficient logical operations.\n",
    "\n",
    "<div>\n",
    "<img src=\"attachment:f1.png\" width=\"350\"/>\n",
    "</div>"
   ]
  },
  {
   "cell_type": "markdown",
   "id": "e981edd4",
   "metadata": {},
   "source": [
    "### Case Study: Counting Rainy Days"
   ]
  },
  {
   "cell_type": "code",
   "execution_count": null,
   "id": "4e16da72",
   "metadata": {},
   "outputs": [],
   "source": [
    "import pandas as pd\n",
    "\n",
    "rainfall = pd.read_csv('Seattle2014.csv')\n",
    "rainfall.head()"
   ]
  },
  {
   "cell_type": "code",
   "execution_count": null,
   "id": "f0441f14",
   "metadata": {},
   "outputs": [],
   "source": [
    "# use pandas to extract rainfall inches as a NumPy array\n",
    "rainfall = rainfall['PRCP'].values\n",
    "rainfall"
   ]
  },
  {
   "cell_type": "code",
   "execution_count": null,
   "id": "bbcb356b",
   "metadata": {
    "scrolled": false
   },
   "outputs": [],
   "source": [
    "rainfall.shape"
   ]
  },
  {
   "cell_type": "code",
   "execution_count": null,
   "id": "47c39022",
   "metadata": {},
   "outputs": [],
   "source": [
    "inches = rainfall / 254.0  # 1/10mm -> inches\n",
    "inches.shape"
   ]
  },
  {
   "cell_type": "code",
   "execution_count": null,
   "id": "76af25aa",
   "metadata": {},
   "outputs": [],
   "source": [
    "inches"
   ]
  },
  {
   "cell_type": "code",
   "execution_count": null,
   "id": "81dfb80b",
   "metadata": {},
   "outputs": [],
   "source": [
    "# Number of days with rainfall between 0.5 and 1.0 inches\n",
    "np.sum((inches > 0.5) & (inches < 1))"
   ]
  },
  {
   "cell_type": "markdown",
   "id": "1ba4d294",
   "metadata": {},
   "source": [
    "Note that the parentheses here are important - because of operator precedence rules. With parentheses removed this expression would be evaluated as follows, which results in an error.\n",
    "\n",
    "`inches > (0.5 & inches) < 1`"
   ]
  },
  {
   "cell_type": "code",
   "execution_count": null,
   "id": "31d933a6",
   "metadata": {},
   "outputs": [],
   "source": [
    "print(\"Number days without rain:      \", np.sum(inches == 0))\n",
    "print(\"Number days with rain:         \", np.sum(inches != 0))\n",
    "print(\"Days with more than 0.5 inches:\", np.sum(inches > 0.5))\n",
    "print(\"Rainy days with < 0.2 inches  :\", np.sum((inches > 0) & (inches < 0.2)))"
   ]
  },
  {
   "cell_type": "markdown",
   "id": "56385396",
   "metadata": {},
   "source": [
    "### Boolean Arrays as Masks\n",
    "In the preceding section we looked at aggregates computed directly on Boolean arrays. A more powerful pattern is to use Boolean arrays as masks, to select particular subsets of the data themselves. "
   ]
  },
  {
   "cell_type": "code",
   "execution_count": 8,
   "id": "0f4eaf6b",
   "metadata": {},
   "outputs": [
    {
     "data": {
      "text/plain": [
       "array([[5, 0, 3, 3],\n",
       "       [7, 9, 3, 5],\n",
       "       [2, 4, 7, 6]])"
      ]
     },
     "execution_count": 8,
     "metadata": {},
     "output_type": "execute_result"
    }
   ],
   "source": [
    "rng = np.random.RandomState(0)\n",
    "x = rng.randint(10, size = (3, 4))\n",
    "x"
   ]
  },
  {
   "cell_type": "code",
   "execution_count": 9,
   "id": "7bedff53",
   "metadata": {},
   "outputs": [
    {
     "data": {
      "text/plain": [
       "array([[False,  True,  True,  True],\n",
       "       [False, False,  True, False],\n",
       "       [ True,  True, False, False]])"
      ]
     },
     "execution_count": 9,
     "metadata": {},
     "output_type": "execute_result"
    }
   ],
   "source": [
    "x < 5"
   ]
  },
  {
   "cell_type": "code",
   "execution_count": null,
   "id": "a38f0895",
   "metadata": {},
   "outputs": [],
   "source": [
    "np.sum(x < 5)"
   ]
  },
  {
   "cell_type": "code",
   "execution_count": null,
   "id": "8afe8a07",
   "metadata": {},
   "outputs": [],
   "source": [
    "x[x < 5]"
   ]
  },
  {
   "cell_type": "markdown",
   "id": "377c455a",
   "metadata": {},
   "source": [
    "What is returned is a one-dimensional array filled with all the values that meet this condition; in other words, all the values in positions at which the mask array is `True`."
   ]
  },
  {
   "cell_type": "code",
   "execution_count": null,
   "id": "d771e587",
   "metadata": {},
   "outputs": [],
   "source": [
    "names = np.array(['Bob', 'Joe', 'Will', 'Bob', 'Will', 'Joe', 'Joe'])\n",
    "names"
   ]
  },
  {
   "cell_type": "code",
   "execution_count": null,
   "id": "8e477c07",
   "metadata": {},
   "outputs": [],
   "source": [
    "data = np.random.randn(7, 4)\n",
    "data"
   ]
  },
  {
   "cell_type": "markdown",
   "id": "3bc8e350",
   "metadata": {},
   "source": [
    "Suppose each name corresponds to a row in the data array and we wanted to select all the rows with corresponding name Bob. Like arithmetic operations, comparison with array are also vectorized."
   ]
  },
  {
   "cell_type": "code",
   "execution_count": null,
   "id": "fbb1c363",
   "metadata": {},
   "outputs": [],
   "source": [
    "names == 'Bob'"
   ]
  },
  {
   "cell_type": "code",
   "execution_count": null,
   "id": "5fecef80",
   "metadata": {},
   "outputs": [],
   "source": [
    "data[names == 'Bob']"
   ]
  },
  {
   "cell_type": "markdown",
   "id": "d7bf103c",
   "metadata": {},
   "source": [
    "The boolean array must be of the same length as the array axis it is indexing. You can even mix and match boolean arrays with slices, indices (integers) or fancy indices (sequences of integers) which will be covered later"
   ]
  },
  {
   "cell_type": "code",
   "execution_count": null,
   "id": "74ddf603",
   "metadata": {},
   "outputs": [],
   "source": [
    "data[names == 'Bob', 2:]"
   ]
  },
  {
   "cell_type": "code",
   "execution_count": null,
   "id": "e44ec1d2",
   "metadata": {},
   "outputs": [],
   "source": [
    "data[names == 'Bob', 3]"
   ]
  },
  {
   "cell_type": "code",
   "execution_count": null,
   "id": "e6d3aef1",
   "metadata": {},
   "outputs": [],
   "source": [
    "# revisit this example after we cover fancy indexing\n",
    "data[names == 'Bob', [3, 0]]"
   ]
  },
  {
   "cell_type": "markdown",
   "id": "96d3e3b6",
   "metadata": {},
   "source": [
    "To select everything but Bob, you can either use `!=` or negate the condition using `~`"
   ]
  },
  {
   "cell_type": "code",
   "execution_count": null,
   "id": "6527a92a",
   "metadata": {},
   "outputs": [],
   "source": [
    "names != 'Bob'"
   ]
  },
  {
   "cell_type": "code",
   "execution_count": null,
   "id": "3f424710",
   "metadata": {},
   "outputs": [],
   "source": [
    "data[names != 'Bob']"
   ]
  },
  {
   "cell_type": "code",
   "execution_count": null,
   "id": "569df346",
   "metadata": {},
   "outputs": [],
   "source": [
    "data[~(names == 'Bob')]"
   ]
  },
  {
   "cell_type": "markdown",
   "id": "e8641043",
   "metadata": {},
   "source": [
    "Selecting two of the three names to combine multiple boolean conditions."
   ]
  },
  {
   "cell_type": "code",
   "execution_count": null,
   "id": "7d165a02",
   "metadata": {},
   "outputs": [],
   "source": [
    "data[(names == 'Bob') | (names == 'Will')]"
   ]
  },
  {
   "cell_type": "markdown",
   "id": "fbbb99b8",
   "metadata": {},
   "source": [
    "**Selecting data from an array by boolean indexing always creates a copy of the data, even if the returned array is unchanged**. Also keep in mind that the Python keywords `and` and `or` do not work with boolean arrays. Use `&` and `|` instead. See the note below "
   ]
  },
  {
   "cell_type": "code",
   "execution_count": null,
   "id": "2d51d538",
   "metadata": {},
   "outputs": [],
   "source": [
    "result = data[(names == 'Bob') | (names == 'Will')]\n",
    "result"
   ]
  },
  {
   "cell_type": "code",
   "execution_count": null,
   "id": "24a26a7f",
   "metadata": {},
   "outputs": [],
   "source": [
    "result[0, 0] = 1\n",
    "result"
   ]
  },
  {
   "cell_type": "code",
   "execution_count": null,
   "id": "51f210df",
   "metadata": {},
   "outputs": [],
   "source": [
    "data"
   ]
  },
  {
   "cell_type": "markdown",
   "id": "37f60cce",
   "metadata": {},
   "source": [
    "### A Note\n",
    "One common point of confusion is the difference between the keywords `and` and `or` on one hand, and the operators `&` and `|` on the other hand. When would you use one versus the other?\n",
    "\n",
    "The difference is this: `and` and `or` gauge the truth or falsehood of one element, while `&` and `|` refer to elemet-wise operation."
   ]
  },
  {
   "cell_type": "code",
   "execution_count": null,
   "id": "25520244",
   "metadata": {},
   "outputs": [],
   "source": [
    "A = np.array([1, 0, 1, 0, 1, 0], dtype=bool)\n",
    "B = np.array([1, 1, 1, 0, 1, 1], dtype=bool)\n",
    "A | B"
   ]
  },
  {
   "cell_type": "code",
   "execution_count": null,
   "id": "0cfc6422",
   "metadata": {},
   "outputs": [],
   "source": [
    "A or B"
   ]
  },
  {
   "cell_type": "code",
   "execution_count": null,
   "id": "b81b52a6",
   "metadata": {},
   "outputs": [],
   "source": [
    "True or False"
   ]
  },
  {
   "cell_type": "markdown",
   "id": "33a955e7",
   "metadata": {},
   "source": [
    "Setting values with boolean arrays works in a common sense way. To set all of the negative values in data to 0, we only need to do"
   ]
  },
  {
   "cell_type": "code",
   "execution_count": null,
   "id": "a9f95a95",
   "metadata": {},
   "outputs": [],
   "source": [
    "data"
   ]
  },
  {
   "cell_type": "code",
   "execution_count": null,
   "id": "c1df1bfb",
   "metadata": {},
   "outputs": [],
   "source": [
    "data[data < 0]"
   ]
  },
  {
   "cell_type": "code",
   "execution_count": null,
   "id": "550f5856",
   "metadata": {
    "scrolled": false
   },
   "outputs": [],
   "source": [
    "data[data < 0] = 0\n",
    "data"
   ]
  },
  {
   "cell_type": "markdown",
   "id": "dcbe4815",
   "metadata": {},
   "source": [
    "Setting whole rows or columns using a one-dimensional boolean array is also easy"
   ]
  },
  {
   "cell_type": "code",
   "execution_count": null,
   "id": "539c2870",
   "metadata": {},
   "outputs": [],
   "source": [
    "data[names != 'Joe']"
   ]
  },
  {
   "cell_type": "code",
   "execution_count": null,
   "id": "b3215e0c",
   "metadata": {},
   "outputs": [],
   "source": [
    "data[names != 'Joe'] = 7\n",
    "data"
   ]
  },
  {
   "cell_type": "code",
   "execution_count": null,
   "id": "3818548f",
   "metadata": {},
   "outputs": [],
   "source": [
    "# construct a mask of all rainy days\n",
    "rainy = (inches > 0)\n",
    "\n",
    "# construct a mask of all summer days (June 21st is the 172nd day)\n",
    "days = np.arange(365)\n",
    "summer = (days > 172) & (days < 262)\n",
    "\n",
    "print(\"Median precip on rainy days in 2014 (inches):   \",\n",
    "      np.median(inches[inches > 0]))\n",
    "print(\"Median precip on summer days in 2014 (inches):  \",\n",
    "      np.median(inches[summer]))\n",
    "print(\"Maximum precip on summer days in 2014 (inches): \",\n",
    "      np.max(inches[summer]))\n",
    "print(\"Median precip on non-summer rainy days (inches):\",\n",
    "      np.median(inches[rainy & ~summer]))"
   ]
  },
  {
   "cell_type": "code",
   "execution_count": null,
   "id": "8558480a",
   "metadata": {},
   "outputs": [],
   "source": [
    "inches[rainy]"
   ]
  },
  {
   "cell_type": "code",
   "execution_count": null,
   "id": "6b46a7dc",
   "metadata": {},
   "outputs": [],
   "source": [
    "inches[rainy].shape"
   ]
  },
  {
   "cell_type": "markdown",
   "id": "2c0b72d7",
   "metadata": {},
   "source": [
    "### Fancy Indexing\n",
    "In the previous sections, we saw how to access and modify portions of arrays using simple indices (e.g., `arr[0]`), slices (e.g., `arr[:5]`), and Boolean masks (e.g., `arr[arr > 0]`). In this section, we'll look at another style of array indexing, known as fancy indexing. **It is a term adopted by NumPy to describe indexing using integer arrays**. Fancy indexing is like the simple indexing we've already seen, but we pass arrays of indices in place of single scalars. This allows us to very quickly access and modify complicated subsets of an array's values. Fancy indexing is conceptually simple: it means passing an array of indices to access multiple array elements at once.\n",
    "\n",
    "The data generation functions in `np.random` use a global random seed. To avoid global state, you can use `np.RandomState` to create a random number generator isolated from others"
   ]
  },
  {
   "cell_type": "code",
   "execution_count": 10,
   "id": "b102986a",
   "metadata": {},
   "outputs": [
    {
     "data": {
      "text/plain": [
       "array([51, 92, 14, 71, 60, 20, 82, 86, 74, 74])"
      ]
     },
     "execution_count": 10,
     "metadata": {},
     "output_type": "execute_result"
    }
   ],
   "source": [
    "rng = np.random.RandomState(42)\n",
    "\n",
    "x = rng.randint(100, size = 10)\n",
    "x"
   ]
  },
  {
   "cell_type": "code",
   "execution_count": 11,
   "id": "ec3c3697",
   "metadata": {},
   "outputs": [
    {
     "data": {
      "text/plain": [
       "[71, 86, 14]"
      ]
     },
     "execution_count": 11,
     "metadata": {},
     "output_type": "execute_result"
    }
   ],
   "source": [
    "# access three different elements\n",
    "[x[3], x[7], x[2]]"
   ]
  },
  {
   "cell_type": "code",
   "execution_count": null,
   "id": "9ba8ec1e",
   "metadata": {},
   "outputs": [],
   "source": [
    "# using fancy indexing\n",
    "x[[3, 7, 2]]"
   ]
  },
  {
   "cell_type": "code",
   "execution_count": null,
   "id": "b7ce61ac",
   "metadata": {},
   "outputs": [],
   "source": [
    "x[3, 7, 2]"
   ]
  },
  {
   "cell_type": "markdown",
   "id": "1c978f41",
   "metadata": {},
   "source": [
    "When using fancy indexing, the shape of the result reflects the shape of the index arrays rather than the shape of the array being indexed"
   ]
  },
  {
   "cell_type": "code",
   "execution_count": null,
   "id": "4175f559",
   "metadata": {},
   "outputs": [],
   "source": [
    "ind = np.array([[3, 7], [4, 5]])\n",
    "ind"
   ]
  },
  {
   "cell_type": "code",
   "execution_count": null,
   "id": "f5fb3e4c",
   "metadata": {},
   "outputs": [],
   "source": [
    "x[ind]"
   ]
  },
  {
   "cell_type": "markdown",
   "id": "f6fa8dd9",
   "metadata": {},
   "source": [
    "To select out a subset of the rows in a particular order, you can simply pass a list or ndarray of integers specifying the desired order"
   ]
  },
  {
   "cell_type": "code",
   "execution_count": 12,
   "id": "9a54f498",
   "metadata": {},
   "outputs": [
    {
     "data": {
      "text/plain": [
       "array([[ 0,  1,  2,  3],\n",
       "       [ 4,  5,  6,  7],\n",
       "       [ 8,  9, 10, 11],\n",
       "       [12, 13, 14, 15],\n",
       "       [16, 17, 18, 19],\n",
       "       [20, 21, 22, 23],\n",
       "       [24, 25, 26, 27],\n",
       "       [28, 29, 30, 31]])"
      ]
     },
     "execution_count": 12,
     "metadata": {},
     "output_type": "execute_result"
    }
   ],
   "source": [
    "X = np.arange(32).reshape((8, 4))\n",
    "X"
   ]
  },
  {
   "cell_type": "code",
   "execution_count": null,
   "id": "31265383",
   "metadata": {},
   "outputs": [],
   "source": [
    "X[4]"
   ]
  },
  {
   "cell_type": "code",
   "execution_count": null,
   "id": "401b2054",
   "metadata": {},
   "outputs": [],
   "source": [
    "X[:3]"
   ]
  },
  {
   "cell_type": "code",
   "execution_count": null,
   "id": "23bf1ddc",
   "metadata": {},
   "outputs": [],
   "source": [
    "X[[4, 3, 0, 6]]"
   ]
  },
  {
   "cell_type": "code",
   "execution_count": null,
   "id": "e1a96183",
   "metadata": {},
   "outputs": [],
   "source": [
    "X[[4, 3, 0, 6], :]"
   ]
  },
  {
   "cell_type": "markdown",
   "id": "fe6f28bc",
   "metadata": {},
   "source": [
    "Using negative indices selects rows from the end"
   ]
  },
  {
   "cell_type": "code",
   "execution_count": 4,
   "id": "2c7f07b5",
   "metadata": {},
   "outputs": [
    {
     "ename": "NameError",
     "evalue": "name 'X' is not defined",
     "output_type": "error",
     "traceback": [
      "\u001b[0;31m---------------------------------------------------------------------------\u001b[0m",
      "\u001b[0;31mNameError\u001b[0m                                 Traceback (most recent call last)",
      "Cell \u001b[0;32mIn[4], line 1\u001b[0m\n\u001b[0;32m----> 1\u001b[0m X[[\u001b[38;5;241m-\u001b[39m\u001b[38;5;241m3\u001b[39m, \u001b[38;5;241m-\u001b[39m\u001b[38;5;241m5\u001b[39m, \u001b[38;5;241m-\u001b[39m\u001b[38;5;241m7\u001b[39m]]\n",
      "\u001b[0;31mNameError\u001b[0m: name 'X' is not defined"
     ]
    }
   ],
   "source": [
    "X[[-3, -5, -7]]"
   ]
  },
  {
   "cell_type": "markdown",
   "id": "a670f54b",
   "metadata": {},
   "source": [
    "Fancy indexing also works in multiple dimensions. Like with standard indexing, the first index refers to the row, and the second to the column. Passing multiple index arrays does something slightly different. **It selects a one-dimensional array of elements corresponding to each tuple of indices**. Regardless of how many dimensions the array has (here, only 2), the result of fancy indexing with multiple integer arrays is always one-dimensional."
   ]
  },
  {
   "cell_type": "code",
   "execution_count": 3,
   "id": "5609e101",
   "metadata": {},
   "outputs": [
    {
     "ename": "NameError",
     "evalue": "name 'np' is not defined",
     "output_type": "error",
     "traceback": [
      "\u001b[0;31m---------------------------------------------------------------------------\u001b[0m",
      "\u001b[0;31mNameError\u001b[0m                                 Traceback (most recent call last)",
      "Cell \u001b[0;32mIn[3], line 1\u001b[0m\n\u001b[0;32m----> 1\u001b[0m X \u001b[38;5;241m=\u001b[39m np\u001b[38;5;241m.\u001b[39marange(\u001b[38;5;241m12\u001b[39m)\u001b[38;5;241m.\u001b[39mreshape((\u001b[38;5;241m3\u001b[39m, \u001b[38;5;241m4\u001b[39m))\n\u001b[1;32m      2\u001b[0m X\n",
      "\u001b[0;31mNameError\u001b[0m: name 'np' is not defined"
     ]
    }
   ],
   "source": [
    "X = np.arange(12).reshape((3, 4))\n",
    "X"
   ]
  },
  {
   "cell_type": "code",
   "execution_count": null,
   "id": "c4753da9",
   "metadata": {},
   "outputs": [],
   "source": [
    "# two index arrays with the same shape\n",
    "row = np.array([2, 1, 3])0, 1, 2])\n",
    "col = np.array([\n",
    "X[row, col]"
   ]
  },
  {
   "cell_type": "code",
   "execution_count": null,
   "id": "3d0b07f4",
   "metadata": {},
   "outputs": [],
   "source": [
    "X[row]"
   ]
  },
  {
   "cell_type": "markdown",
   "id": "e2dcca85",
   "metadata": {},
   "source": [
    "Notice that the first value in the result is `X[0, 2]`, the second is `X[1, 1]`, and the third is `X[2, 3]`. The behavior of fancy indexing in the above case is a bit different from what you might have expected. To get the rectangular region formed by selecting a subset of the matrix's rows and columns, see the example below"
   ]
  },
  {
   "cell_type": "code",
   "execution_count": null,
   "id": "d43649ec",
   "metadata": {},
   "outputs": [],
   "source": [
    "X[:, [2, 1, 3]]"
   ]
  },
  {
   "cell_type": "code",
   "execution_count": null,
   "id": "2a182214",
   "metadata": {},
   "outputs": [],
   "source": [
    "X[[0, 2], 1:3]"
   ]
  },
  {
   "cell_type": "markdown",
   "id": "60df1f2b",
   "metadata": {},
   "source": [
    "### Modifying Values with Fancy Indexing\n",
    "Just as fancy indexing can be used to access parts of an array, it can also be used to modify parts of an array"
   ]
  },
  {
   "cell_type": "code",
   "execution_count": null,
   "id": "4bf98f8d",
   "metadata": {},
   "outputs": [],
   "source": [
    "x = np.arange(10)\n",
    "x"
   ]
  },
  {
   "cell_type": "code",
   "execution_count": null,
   "id": "9a576cab",
   "metadata": {},
   "outputs": [],
   "source": [
    "i = np.array([2, 1, 8, 4])\n",
    "x[i]"
   ]
  },
  {
   "cell_type": "code",
   "execution_count": null,
   "id": "9ac1e490",
   "metadata": {},
   "outputs": [],
   "source": [
    "x[i] = 99\n",
    "x"
   ]
  },
  {
   "cell_type": "markdown",
   "id": "eeb488ba",
   "metadata": {},
   "source": [
    "We can use any assignment-type operator for this"
   ]
  },
  {
   "cell_type": "code",
   "execution_count": 2,
   "id": "377b976b",
   "metadata": {},
   "outputs": [
    {
     "ename": "NameError",
     "evalue": "name 'x' is not defined",
     "output_type": "error",
     "traceback": [
      "\u001b[0;31m---------------------------------------------------------------------------\u001b[0m",
      "\u001b[0;31mNameError\u001b[0m                                 Traceback (most recent call last)",
      "Cell \u001b[0;32mIn[2], line 1\u001b[0m\n\u001b[0;32m----> 1\u001b[0m x[i] \u001b[38;5;241m-\u001b[39m\u001b[38;5;241m=\u001b[39m \u001b[38;5;241m10\u001b[39m \u001b[38;5;66;03m# x[i] = x[i] - 10\u001b[39;00m\n\u001b[1;32m      2\u001b[0m x\n",
      "\u001b[0;31mNameError\u001b[0m: name 'x' is not defined"
     ]
    }
   ],
   "source": [
    "x[i] -= 10 # x[i] = x[i] - 10\n",
    "x"
   ]
  },
  {
   "cell_type": "markdown",
   "id": "21cd8aaf",
   "metadata": {},
   "source": [
    "Keep in mind that fancy indexing, unlike slicing, always copies the data into a new array. We can verify that using the following example"
   ]
  },
  {
   "cell_type": "code",
   "execution_count": null,
   "id": "14df6ac2",
   "metadata": {},
   "outputs": [],
   "source": [
    "new_x_slice = x[i] # get a copy to new_x_slice\n",
    "new_x_slice[:] = 66\n",
    "print(new_x_slice)"
   ]
  },
  {
   "cell_type": "code",
   "execution_count": null,
   "id": "c571bd5f",
   "metadata": {},
   "outputs": [],
   "source": [
    "x"
   ]
  },
  {
   "cell_type": "markdown",
   "id": "e61d478d",
   "metadata": {},
   "source": [
    "### Combined Indexing\n",
    "Fancy indexing can be combined with the other indexing schemes we've seen."
   ]
  },
  {
   "cell_type": "code",
   "execution_count": 1,
   "id": "1b586616",
   "metadata": {},
   "outputs": [
    {
     "ename": "NameError",
     "evalue": "name 'X' is not defined",
     "output_type": "error",
     "traceback": [
      "\u001b[0;31m---------------------------------------------------------------------------\u001b[0m",
      "\u001b[0;31mNameError\u001b[0m                                 Traceback (most recent call last)",
      "Cell \u001b[0;32mIn[1], line 1\u001b[0m\n\u001b[0;32m----> 1\u001b[0m X\n",
      "\u001b[0;31mNameError\u001b[0m: name 'X' is not defined"
     ]
    }
   ],
   "source": [
    "X"
   ]
  },
  {
   "cell_type": "markdown",
   "id": "e95c40cc",
   "metadata": {},
   "source": [
    "We can combine fancy and simple indices"
   ]
  },
  {
   "cell_type": "code",
   "execution_count": null,
   "id": "e78c9179",
   "metadata": {},
   "outputs": [],
   "source": [
    "X[2, [2, 0, 1]]"
   ]
  },
  {
   "cell_type": "markdown",
   "id": "b4410130",
   "metadata": {},
   "source": [
    "We can also combine fancy indexing with slicing"
   ]
  },
  {
   "cell_type": "code",
   "execution_count": null,
   "id": "c1795f40",
   "metadata": {},
   "outputs": [],
   "source": [
    "X[1:, [2, 0, 1]]"
   ]
  },
  {
   "cell_type": "markdown",
   "id": "5b96cf61",
   "metadata": {},
   "source": [
    "And we can combine fancy indexing with masking"
   ]
  },
  {
   "cell_type": "code",
   "execution_count": null,
   "id": "57043f56",
   "metadata": {},
   "outputs": [],
   "source": [
    "mask = np.array([1, 0, 1, 0], dtype = bool)\n",
    "mask"
   ]
  },
  {
   "cell_type": "code",
   "execution_count": null,
   "id": "bf2dc23f",
   "metadata": {},
   "outputs": [],
   "source": [
    "row = np.array([0, 1, 2])"
   ]
  },
  {
   "cell_type": "code",
   "execution_count": null,
   "id": "ed68abbe",
   "metadata": {},
   "outputs": [],
   "source": [
    "row[:, np.newaxis]"
   ]
  },
  {
   "cell_type": "code",
   "execution_count": null,
   "id": "805ddb19",
   "metadata": {},
   "outputs": [],
   "source": [
    "X[row[:, np.newaxis], mask]"
   ]
  },
  {
   "cell_type": "markdown",
   "id": "1219c4a2",
   "metadata": {},
   "source": [
    "### Swap Rows and Columns"
   ]
  },
  {
   "cell_type": "code",
   "execution_count": null,
   "id": "96627121",
   "metadata": {},
   "outputs": [],
   "source": [
    "x = 1\n",
    "y = 2\n",
    "x, y = y, x\n",
    "print('x', x)\n",
    "print('y', y)"
   ]
  },
  {
   "cell_type": "code",
   "execution_count": null,
   "id": "60f499a2",
   "metadata": {},
   "outputs": [],
   "source": [
    "t = np.arange(0, 12).reshape(3, 4)\n",
    "t"
   ]
  },
  {
   "cell_type": "code",
   "execution_count": null,
   "id": "7e66e0fe",
   "metadata": {},
   "outputs": [],
   "source": [
    "# swap rows\n",
    "t[[1, 2], :] = t[[2, 1], :]\n",
    "t"
   ]
  },
  {
   "cell_type": "code",
   "execution_count": null,
   "id": "a50ad641",
   "metadata": {},
   "outputs": [],
   "source": [
    "# swap columns\n",
    "t[:, [0, 2]] = t[:, [2, 0]]\n",
    "t"
   ]
  },
  {
   "cell_type": "markdown",
   "id": "4156a030",
   "metadata": {},
   "source": [
    "### Sorting Arrays\n",
    "To return a sorted version of the array without modifying the input, you can use `np.sort`"
   ]
  },
  {
   "cell_type": "code",
   "execution_count": null,
   "id": "7801f9af",
   "metadata": {},
   "outputs": [],
   "source": [
    "# class function\n",
    "x = np.array([2, 1, 4, 3, 5])\n",
    "np.sort(x)"
   ]
  },
  {
   "cell_type": "code",
   "execution_count": null,
   "id": "114350a1",
   "metadata": {},
   "outputs": [],
   "source": [
    "x # the original array is not changed"
   ]
  },
  {
   "cell_type": "markdown",
   "id": "991ca12e",
   "metadata": {},
   "source": [
    "If you prefer to sort the array in-place, you can instead use the `sort` method of arrays"
   ]
  },
  {
   "cell_type": "code",
   "execution_count": null,
   "id": "a82503d1",
   "metadata": {},
   "outputs": [],
   "source": [
    "# array method\n",
    "x.sort()\n",
    "x"
   ]
  },
  {
   "cell_type": "code",
   "execution_count": null,
   "id": "3f28321f",
   "metadata": {},
   "outputs": [],
   "source": [
    "s = [34, 97, -1, 36, 100]"
   ]
  },
  {
   "cell_type": "code",
   "execution_count": null,
   "id": "8fb3f079",
   "metadata": {},
   "outputs": [],
   "source": [
    "s.sort()\n",
    "s"
   ]
  },
  {
   "cell_type": "code",
   "execution_count": null,
   "id": "dff41005",
   "metadata": {},
   "outputs": [],
   "source": [
    "s1 = [34, 97, -1, 36, 100]"
   ]
  },
  {
   "cell_type": "code",
   "execution_count": null,
   "id": "7d995bcb",
   "metadata": {},
   "outputs": [],
   "source": [
    "sorted(s1)"
   ]
  },
  {
   "cell_type": "code",
   "execution_count": null,
   "id": "7530f87f",
   "metadata": {},
   "outputs": [],
   "source": [
    "s1"
   ]
  },
  {
   "cell_type": "markdown",
   "id": "5dc5db55",
   "metadata": {},
   "source": [
    "A related function is `argsort`, which instead returns the indices of the sorted elements"
   ]
  },
  {
   "cell_type": "code",
   "execution_count": null,
   "id": "ad3e8e20",
   "metadata": {},
   "outputs": [],
   "source": [
    "x = np.array([2, 1, 4, 3, 5])\n",
    "i = np.argsort(x)\n",
    "i"
   ]
  },
  {
   "cell_type": "markdown",
   "id": "abd6e8fa",
   "metadata": {},
   "source": [
    "The first element of this result gives the index of the smallest element, the second value gives the index of the second smallest, and so on. These indices can then be used (via fancy indexing) to construct the sorted array if desired"
   ]
  },
  {
   "cell_type": "code",
   "execution_count": null,
   "id": "d4b4cce0",
   "metadata": {},
   "outputs": [],
   "source": [
    "x[i]"
   ]
  },
  {
   "cell_type": "markdown",
   "id": "a9b256d3",
   "metadata": {},
   "source": [
    "#### Sorting Along Rows or Columns\n",
    "A useful feature of NumPy's sorting algorithms is the ability to sort along specific rows or columns of a multidimensional array using the `axis` argument. **Keep in mind that this treats each row or column as an independent array, and any relationships between the row or column values will be lost!**"
   ]
  },
  {
   "cell_type": "code",
   "execution_count": null,
   "id": "7a1dbd35",
   "metadata": {},
   "outputs": [],
   "source": [
    "rand = np.random.RandomState(42)\n",
    "X = rand.randint(0, 10, (4, 6))\n",
    "X"
   ]
  },
  {
   "cell_type": "code",
   "execution_count": null,
   "id": "7026180b",
   "metadata": {},
   "outputs": [],
   "source": [
    "# sort each column of X\n",
    "np.sort(X, axis = 0)"
   ]
  },
  {
   "cell_type": "code",
   "execution_count": null,
   "id": "f8ee0cca",
   "metadata": {},
   "outputs": [],
   "source": [
    "# sort each row of X\n",
    "np.sort(X, axis = 1)"
   ]
  },
  {
   "cell_type": "markdown",
   "id": "ffb1cfd4",
   "metadata": {},
   "source": [
    "#### Partial Sorts: Partitioning\n",
    "Sometimes we're not interested in sorting the entire array, but simply want to find the `k` smallest values in the array. NumPy provides this in the `np.partition` function. `np.partition` takes an array and a number `k`; the result is a new array with the smallest `k` values to the left of the partition, and the remaining values to the right, in arbitrary order. **Within both partitions (left and right), the elements have arbitrary order.**"
   ]
  },
  {
   "cell_type": "code",
   "execution_count": null,
   "id": "86705b44",
   "metadata": {},
   "outputs": [],
   "source": [
    "x = np.array([7, 2, 3, 1, 6, 5, 4])\n",
    "np.partition(x, 3)"
   ]
  },
  {
   "cell_type": "code",
   "execution_count": null,
   "id": "6c7ca45b",
   "metadata": {},
   "outputs": [],
   "source": [
    "# if k is negative, the largest k number are put at the end of the array\n",
    "x = np.array([7, 2, 3, 1, 6, 5, 4])\n",
    "np.partition(x, -3)"
   ]
  },
  {
   "cell_type": "markdown",
   "id": "b7438f36",
   "metadata": {},
   "source": [
    "Similarly to sorting, we can partition along an arbitrary axis of a multidimensional array"
   ]
  },
  {
   "cell_type": "code",
   "execution_count": null,
   "id": "95137ef8",
   "metadata": {},
   "outputs": [],
   "source": [
    "X"
   ]
  },
  {
   "cell_type": "code",
   "execution_count": null,
   "id": "af7206e7",
   "metadata": {},
   "outputs": [],
   "source": [
    "np.partition(X, 2, axis = 1)"
   ]
  },
  {
   "cell_type": "markdown",
   "id": "2b15f521",
   "metadata": {},
   "source": [
    "The result is an array where the first two slots in each row contain the smallest values from that row, with the remaining values filling the remaining slots. Finally, just as there is a `np.argsort` that computes indices of the sort, there is a `np.argpartition` that computes indices of the partition"
   ]
  }
 ],
 "metadata": {
  "kernelspec": {
   "display_name": "Python 3 (ipykernel)",
   "language": "python",
   "name": "python3"
  },
  "language_info": {
   "codemirror_mode": {
    "name": "ipython",
    "version": 3
   },
   "file_extension": ".py",
   "mimetype": "text/x-python",
   "name": "python",
   "nbconvert_exporter": "python",
   "pygments_lexer": "ipython3",
   "version": "3.11.4"
  }
 },
 "nbformat": 4,
 "nbformat_minor": 5
}
