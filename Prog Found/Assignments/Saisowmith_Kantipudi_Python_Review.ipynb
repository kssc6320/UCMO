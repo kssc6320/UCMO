{
 "cells": [
  {
   "cell_type": "markdown",
   "id": "ff141806",
   "metadata": {},
   "source": [
    "### Python Review Assignment\n",
    "16 points\n",
    "\n",
    "Due by midnight September 8, 2023\n",
    "\n",
    "\n",
    "**To avoid erasing the sample output, please insert a new cell above the sample output**. Write your script inside the new cell and run. Verify your output with the sample output\n",
    "\n",
    "For lab submission, please rename your file using the following format\n",
    "\n",
    "`firstname_familyname_python_review.ipynb`"
   ]
  },
  {
   "cell_type": "code",
   "execution_count": null,
   "id": "283eac74",
   "metadata": {},
   "outputs": [],
   "source": [
    "# please enter your name and 700# in this cell\n",
    "Sai Sowmith kantipudi 700740976\n",
    "\n"
   ]
  },
  {
   "cell_type": "markdown",
   "id": "a42732b2",
   "metadata": {},
   "source": [
    "### Task 1\n",
    "Define a string `s1` with content 'Good morning John'. Count the number of characters in `s1`"
   ]
  },
  {
   "cell_type": "code",
   "execution_count": 12,
   "id": "655c39e8",
   "metadata": {},
   "outputs": [],
   "source": [
    "s1 = 'Good morning John'\n"
   ]
  },
  {
   "cell_type": "code",
   "execution_count": 15,
   "id": "e260e38e",
   "metadata": {},
   "outputs": [],
   "source": [
    "length=len(s1)"
   ]
  },
  {
   "cell_type": "code",
   "execution_count": 56,
   "id": "c29b4bae",
   "metadata": {},
   "outputs": [
    {
     "name": "stdout",
     "output_type": "stream",
     "text": [
      "17\n"
     ]
    }
   ],
   "source": [
    "print(length)"
   ]
  },
  {
   "cell_type": "markdown",
   "id": "5d91c61d",
   "metadata": {},
   "source": [
    "### Task 2\n",
    "Check if the word 'morning' is contained in `s1`"
   ]
  },
  {
   "cell_type": "code",
   "execution_count": 8,
   "id": "11e47041",
   "metadata": {},
   "outputs": [],
   "source": [
    "s1 = 'Good morning John'"
   ]
  },
  {
   "cell_type": "code",
   "execution_count": 9,
   "id": "e22979de",
   "metadata": {},
   "outputs": [
    {
     "data": {
      "text/plain": [
       "True"
      ]
     },
     "execution_count": 9,
     "metadata": {},
     "output_type": "execute_result"
    }
   ],
   "source": [
    "'morning' in s1 "
   ]
  },
  {
   "cell_type": "markdown",
   "id": "a8e990f2",
   "metadata": {},
   "source": [
    "### Task 3\n",
    "Use a function to replace 'John' with 'David' in `s1`. Show the content of the new string"
   ]
  },
  {
   "cell_type": "code",
   "execution_count": 6,
   "id": "2ceadeb8",
   "metadata": {},
   "outputs": [],
   "source": [
    "s1 = 'Good morning John'"
   ]
  },
  {
   "cell_type": "code",
   "execution_count": 7,
   "id": "133c3b38",
   "metadata": {},
   "outputs": [
    {
     "data": {
      "text/plain": [
       "'Good morning David'"
      ]
     },
     "execution_count": 7,
     "metadata": {},
     "output_type": "execute_result"
    }
   ],
   "source": [
    "s1.replace('John','David')"
   ]
  },
  {
   "cell_type": "markdown",
   "id": "fccce95f",
   "metadata": {},
   "source": [
    "### Task 4\n",
    "Use your UCM email address to create a string s2. Extract the string `ucmo.edu`"
   ]
  },
  {
   "cell_type": "code",
   "execution_count": 18,
   "id": "1a4662b4",
   "metadata": {},
   "outputs": [],
   "source": [
    "email='sxk09760@ucmo.edu'"
   ]
  },
  {
   "cell_type": "code",
   "execution_count": 28,
   "id": "61c5f20a",
   "metadata": {},
   "outputs": [
    {
     "data": {
      "text/plain": [
       "'ucmo.edu'"
      ]
     },
     "execution_count": 28,
     "metadata": {},
     "output_type": "execute_result"
    }
   ],
   "source": [
    "items = email.split('@')\n",
    "items[1]"
   ]
  },
  {
   "cell_type": "markdown",
   "id": "c839354c",
   "metadata": {},
   "source": [
    "### Task 5\n",
    "Create a list x with integers from 1 to 30. Create a new list y which only conatins the odd numbers from list x. You are not allowed to mannually type out the lists"
   ]
  },
  {
   "cell_type": "code",
   "execution_count": 47,
   "id": "f1012d6b",
   "metadata": {},
   "outputs": [],
   "source": [
    "x=[]\n",
    "for i in range(1,31):\n",
    "    x.append(i)"
   ]
  },
  {
   "cell_type": "code",
   "execution_count": 53,
   "id": "885ffa3f",
   "metadata": {},
   "outputs": [
    {
     "data": {
      "text/plain": [
       "[1, 3, 5, 7, 9, 11, 13, 15, 17, 19, 21, 23, 25, 27, 29]"
      ]
     },
     "execution_count": 53,
     "metadata": {},
     "output_type": "execute_result"
    }
   ],
   "source": [
    "y=[]\n",
    "for j in x:\n",
    "    if j%2!=0:\n",
    "        y.append(j)\n",
    "print(y)"
   ]
  },
  {
   "cell_type": "markdown",
   "id": "d8b8ef7b",
   "metadata": {},
   "source": [
    "### Task 6\n",
    "Create a new list z with each element is a squre of the corresponding element from list y. You are not allowed to mannually type out the list"
   ]
  },
  {
   "cell_type": "code",
   "execution_count": 50,
   "id": "36e95073",
   "metadata": {},
   "outputs": [],
   "source": [
    "z=[]\n",
    "for k in y:\n",
    "    z.append(k*k)"
   ]
  },
  {
   "cell_type": "code",
   "execution_count": 57,
   "id": "eb22212d",
   "metadata": {},
   "outputs": [
    {
     "name": "stdout",
     "output_type": "stream",
     "text": [
      "[1, 9, 25, 49, 81, 121, 169, 225, 289, 361, 441, 529, 625, 729, 841]\n"
     ]
    }
   ],
   "source": [
    "print(z)"
   ]
  },
  {
   "cell_type": "markdown",
   "id": "148610bf",
   "metadata": {},
   "source": [
    "### Task 7\n",
    "Extract `[729, 625, 529, 441, 361, 289, 225, 169]` from list z. You are not allowed to mannually type out the list"
   ]
  },
  {
   "cell_type": "code",
   "execution_count": 63,
   "id": "ac19d388",
   "metadata": {},
   "outputs": [],
   "source": [
    "sorted(z)\n",
    "l=[]\n",
    "for i in range(z.index(169),len(z)-1):\n",
    "    l.append(z[i])"
   ]
  },
  {
   "cell_type": "code",
   "execution_count": 64,
   "id": "d1e261c4",
   "metadata": {},
   "outputs": [
    {
     "name": "stdout",
     "output_type": "stream",
     "text": [
      "[729, 625, 529, 441, 361, 289, 225, 169]\n"
     ]
    }
   ],
   "source": [
    "print(l[::-1])"
   ]
  },
  {
   "cell_type": "markdown",
   "id": "faa59cf8",
   "metadata": {},
   "source": [
    "### Task 8\n",
    "Reverse the order of z. You are not allowed to mannually type out the list"
   ]
  },
  {
   "cell_type": "code",
   "execution_count": 65,
   "id": "442059cc",
   "metadata": {},
   "outputs": [],
   "source": [
    "z=[]\n",
    "for k in y:\n",
    "    z.append(k*k)"
   ]
  },
  {
   "cell_type": "code",
   "execution_count": 74,
   "id": "c4468042",
   "metadata": {},
   "outputs": [
    {
     "name": "stdout",
     "output_type": "stream",
     "text": [
      "[841, 729, 625, 529, 441, 361, 289, 225, 169, 121, 81, 49, 25, 9, 1]\n"
     ]
    }
   ],
   "source": [
    "print(z[::-1])"
   ]
  },
  {
   "cell_type": "markdown",
   "id": "a5f86fed",
   "metadata": {},
   "source": [
    "### Task 9\n",
    "Given the following list, extract the string 'Get Me'"
   ]
  },
  {
   "cell_type": "code",
   "execution_count": 69,
   "id": "99b61963",
   "metadata": {},
   "outputs": [],
   "source": [
    "lst = [1, 2, [3, 4], [5, [100, 200, ['Get Me']], 300, 11], 1, 9]\n"
   ]
  },
  {
   "cell_type": "code",
   "execution_count": 158,
   "id": "0e8f451a",
   "metadata": {},
   "outputs": [
    {
     "name": "stdout",
     "output_type": "stream",
     "text": [
      "Get Me\n"
     ]
    }
   ],
   "source": [
    "print(lst[3][1][2][0])"
   ]
  },
  {
   "cell_type": "markdown",
   "id": "4a4ba88f",
   "metadata": {},
   "source": [
    "### Task 10\n",
    "Sort the following list of strings by their lengths. You are not allowed to mannually type out the list"
   ]
  },
  {
   "cell_type": "code",
   "execution_count": 75,
   "id": "a7a3ff33",
   "metadata": {},
   "outputs": [],
   "source": [
    "x = ['ccc', 'dddd', 'bb', 'ggggggg', 'a', 'eeeee', 'ffffff']\n"
   ]
  },
  {
   "cell_type": "code",
   "execution_count": 77,
   "id": "477f0495",
   "metadata": {},
   "outputs": [
    {
     "name": "stdout",
     "output_type": "stream",
     "text": [
      "['a', 'bb', 'ccc', 'dddd', 'eeeee', 'ffffff', 'ggggggg']\n"
     ]
    }
   ],
   "source": [
    "x.sort(key=len)\n",
    "print(x)"
   ]
  },
  {
   "cell_type": "markdown",
   "id": "b51c2254",
   "metadata": {},
   "source": [
    "### Task 11\n",
    "Extract the string 'Get Me' from the following dictionary d"
   ]
  },
  {
   "cell_type": "code",
   "execution_count": 141,
   "id": "8a43df80",
   "metadata": {},
   "outputs": [],
   "source": [
    "d = {'k1':[1, 2, 3, {'tricky':['oh', 'man', 'crazy', {'target':[1, 2, 3, 'Get Me']}]}]}"
   ]
  },
  {
   "cell_type": "code",
   "execution_count": 155,
   "id": "4184c435",
   "metadata": {},
   "outputs": [
    {
     "data": {
      "text/plain": [
       "'Get Me'"
      ]
     },
     "execution_count": 155,
     "metadata": {},
     "output_type": "execute_result"
    }
   ],
   "source": [
    "d['k1'][3]['tricky'][3]['target'][3]"
   ]
  },
  {
   "cell_type": "markdown",
   "id": "8fa3e925",
   "metadata": {},
   "source": [
    "### Task 12\n",
    "Use lambda expressions and the `filter()` function to filter out words from the following list that don't start with the letter 's'"
   ]
  },
  {
   "cell_type": "code",
   "execution_count": 84,
   "id": "4a023ebc",
   "metadata": {},
   "outputs": [],
   "source": [
    "seq = ['soup', 'apple', 'salad', 'banana', 'spaghetti', 'spinach', 'kiwi']\n"
   ]
  },
  {
   "cell_type": "code",
   "execution_count": 86,
   "id": "9c90a4f6",
   "metadata": {},
   "outputs": [
    {
     "name": "stdout",
     "output_type": "stream",
     "text": [
      "['apple', 'banana', 'kiwi']\n"
     ]
    }
   ],
   "source": [
    "lamFunc=lambda sequence : False if sequence[0]=='s' else True\n",
    "\n",
    "\n",
    "Sequence = filter(lamFunc, seq)\n",
    "\n",
    "print(list(Sequence))"
   ]
  },
  {
   "cell_type": "markdown",
   "id": "66db071e",
   "metadata": {},
   "source": [
    "### Task 13\n",
    "Count the number of unique characters in the following string s. Please ignore the white space and character case. For example, 'P' and 'p' are considered as one character"
   ]
  },
  {
   "cell_type": "code",
   "execution_count": 93,
   "id": "9a360418",
   "metadata": {},
   "outputs": [],
   "source": [
    "s = 'Python programming is fun'\n"
   ]
  },
  {
   "cell_type": "code",
   "execution_count": 100,
   "id": "81e5bbb0",
   "metadata": {},
   "outputs": [
    {
     "name": "stdout",
     "output_type": "stream",
     "text": [
      "14\n"
     ]
    }
   ],
   "source": [
    "s=s.lower()\n",
    "s=s.replace(' ','')\n",
    "set1=set(s)\n",
    "print(len(set1))"
   ]
  },
  {
   "cell_type": "markdown",
   "id": "00b64768",
   "metadata": {},
   "source": [
    "### Task 14\n",
    "Use lambda expressions and the `map()` function to count the length of each string in the list"
   ]
  },
  {
   "cell_type": "code",
   "execution_count": 1,
   "id": "b735d5e5",
   "metadata": {},
   "outputs": [],
   "source": [
    "seq = ['soup', 'apple', 'salad', 'banana', 'spaghetti', 'spinach', 'kiwi']\n"
   ]
  },
  {
   "cell_type": "code",
   "execution_count": 153,
   "id": "541bf0e6",
   "metadata": {},
   "outputs": [
    {
     "name": "stdout",
     "output_type": "stream",
     "text": [
      "[4, 5, 5, 6, 9, 7, 4]\n"
     ]
    }
   ],
   "source": [
    "x = list(map(lambda x: len(x), seq))\n",
    "\n",
    "print(x)"
   ]
  },
  {
   "cell_type": "markdown",
   "id": "aeed3974",
   "metadata": {},
   "source": [
    "### Task 15\n",
    "Create a function that counts the number of times the word 'dog' occurs in a string. Ignore edge cases. "
   ]
  },
  {
   "cell_type": "code",
   "execution_count": 147,
   "id": "3940870f",
   "metadata": {},
   "outputs": [
    {
     "name": "stdout",
     "output_type": "stream",
     "text": [
      "3\n"
     ]
    }
   ],
   "source": [
    "def countDog(s):\n",
    "    s=s.split(' ')\n",
    "    count=0\n",
    "    for i in s:\n",
    "        if i=='dog':\n",
    "            count=count+1\n",
    "    print(count)\n",
    "\n",
    "countDog('This dog looks differently from that dog in the dog shelter!')\n"
   ]
  },
  {
   "cell_type": "code",
   "execution_count": 116,
   "id": "13bc2166",
   "metadata": {},
   "outputs": [],
   "source": []
  },
  {
   "cell_type": "markdown",
   "id": "05cd0e30",
   "metadata": {},
   "source": [
    "### Task 16\n",
    "Write a `for` loop to process employee information listed in the cell below. For each employee with Level 1, increase the salary by 2000 and adjust the Level from 1 to 2. Display all employee information afterwards."
   ]
  },
  {
   "cell_type": "code",
   "execution_count": 125,
   "id": "df89576e",
   "metadata": {},
   "outputs": [],
   "source": [
    "employee = {\n",
    "    'Elon Musk':{'Department':'Sales', 'Salary':6000, 'Level':2},\n",
    "    'Bill Gates': {'Department':'Engineering', 'Salary':10000, 'Level':3},\n",
    "    'Donald Trump':{'Department':'Public Relations', 'Salary':3000, 'Level':1},\n",
    "    'Joe Biden':{'Department':'Human Resources', 'Salary':5000, 'Level':2},\n",
    "    'Mark Zuckerberg':{'Department':'Engineering', 'Salary':10000, 'Level':3},\n",
    "    'Jensen Huang':{'Department':'Sales', 'Salary':4000, 'Level':1}\n",
    "}"
   ]
  },
  {
   "cell_type": "code",
   "execution_count": 146,
   "id": "2a107723",
   "metadata": {},
   "outputs": [
    {
     "name": "stdout",
     "output_type": "stream",
     "text": [
      "{'Elon Musk': {'Department': 'Sales', 'Salary': 6000, 'Level': 2}, 'Bill Gates': {'Department': 'Engineering', 'Salary': 10000, 'Level': 3}, 'Donald Trump': {'Department': 'Public Relations', 'Salary': 5000, 'Level': 2}, 'Joe Biden': {'Department': 'Human Resources', 'Salary': 5000, 'Level': 2}, 'Mark Zuckerberg': {'Department': 'Engineering', 'Salary': 10000, 'Level': 3}, 'Jensen Huang': {'Department': 'Sales', 'Salary': 6000, 'Level': 2}}\n"
     ]
    }
   ],
   "source": [
    "for key, value in employee.items():\n",
    "    if value['Level'] == 1:\n",
    "        value['Salary'] += 2000\n",
    "        value['Level'] = 2\n",
    "        \n",
    "print(employee)"
   ]
  },
  {
   "cell_type": "code",
   "execution_count": 2,
   "id": "42bbe4ec",
   "metadata": {},
   "outputs": [
    {
     "name": "stdout",
     "output_type": "stream",
     "text": [
      "{'Elon Musk': {'Department': 'Sales', 'Salary': 6000, 'Level': 2}, 'Bill Gates': {'Department': 'Engineering', 'Salary': 10000, 'Level': 3}, 'Donald Trump': {'Department': 'Public Relations', 'Salary': 5000, 'Level': 2}, 'Joe Biden': {'Department': 'Human Resources', 'Salary': 5000, 'Level': 2}, 'Mark Zuckerberg': {'Department': 'Engineering', 'Salary': 10000, 'Level': 3}, 'Jensen Huang': {'Department': 'Sales', 'Salary': 6000, 'Level': 2}}\n"
     ]
    }
   ],
   "source": []
  }
 ],
 "metadata": {
  "kernelspec": {
   "display_name": "Python 3 (ipykernel)",
   "language": "python",
   "name": "python3"
  },
  "language_info": {
   "codemirror_mode": {
    "name": "ipython",
    "version": 3
   },
   "file_extension": ".py",
   "mimetype": "text/x-python",
   "name": "python",
   "nbconvert_exporter": "python",
   "pygments_lexer": "ipython3",
   "version": "3.11.4"
  }
 },
 "nbformat": 4,
 "nbformat_minor": 5
}
